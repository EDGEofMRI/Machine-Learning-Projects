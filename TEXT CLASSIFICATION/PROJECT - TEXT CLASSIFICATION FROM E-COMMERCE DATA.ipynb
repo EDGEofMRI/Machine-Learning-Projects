{
  "cells": [
    {
      "cell_type": "markdown",
      "id": "428766fc",
      "metadata": {
        "id": "428766fc"
      },
      "source": [
        "# TEXT CLASSIFICATION FROM E-COMMERCE DATA - Project by MD Rashadul Islam"
      ]
    },
    {
      "cell_type": "markdown",
      "id": "7cd82208",
      "metadata": {
        "id": "7cd82208"
      },
      "source": [
        "Importing Necessary Library and Reading Data"
      ]
    },
    {
      "cell_type": "code",
      "execution_count": 1,
      "id": "35f8570c",
      "metadata": {
        "id": "35f8570c"
      },
      "outputs": [],
      "source": [
        "import pandas as pd\n",
        "#commonly used for data manipulation and analysis\n",
        "import numpy as np\n",
        "#for numerical computing\n",
        "import matplotlib.pyplot as plt\n",
        "#for creating static, animated, and interactive visualizations.\n",
        "import seaborn as sns\n",
        "#based on Matplotlib, for creating informative and attractive statistical graphics.\n",
        "import re\n",
        "#used for regular expressions. It allows you to work with patterns in text data.\n",
        "import string\n",
        "#provides a collection of string constants and functions for string manipulation.\n",
        "import nltk\n",
        "#Natural Language Toolkit (NLTK), which is a library for working with human language data. NLTK provides tools for tokenization, stemming, lemmatization, and more.\n",
        "from nltk.corpus import stopwords\n",
        "#Stopwords are common words (e.g., \"the,\" \"and,\" \"is\") that are often removed from text data during NLP preprocessing.\n",
        "from nltk.tokenize import word_tokenize\n",
        "#used to tokenize (split) text into words or tokens.\n",
        "from nltk.stem import WordNetLemmatizer\n",
        "#Lemmatization is a text normalization technique that reduces words to their base or root form.\n",
        "from nltk.corpus import wordnet\n",
        "#WordNet is a lexical database that is often used in natural language processing for word-related tasks.\n",
        "from sklearn.naive_bayes import MultinomialNB, BernoulliNB\n",
        "#Naive Bayes classifiers are commonly used for text classification tasks in NLP.\n",
        "from nltk.stem import PorterStemmer\n",
        "#Stemming is another text normalization technique that reduces words to their root form, although it may not always result in valid words.\n",
        "from sklearn.feature_extraction.text import TfidfVectorizer\n",
        "#TF-IDF (Term Frequency-Inverse Document Frequency) vectorization is a technique used to convert text data into numerical features for machine learning models.\n",
        "from sklearn.model_selection import train_test_split\n",
        "#used to split data into training and testing sets for model evaluation.\n",
        "from sklearn.metrics import accuracy_score, classification_report, confusion_matrix\n",
        "#accuracy_score: Computes the accuracy of a classification model.\n",
        "#classification_report: Generates a detailed classification report with various metrics like precision, recall, and F1-score\n",
        "#confusion_matrix: Calculates a confusion matrix to evaluate the performance of a classifier.\n",
        "from sklearn.linear_model import LogisticRegression\n",
        "#Logistic regression is a common classification algorithm.\n",
        "from sklearn.svm import SVC\n",
        "#SVC is a powerful classification algorithm.\n",
        "from sklearn.neighbors import KNeighborsClassifier\n",
        "#K-nearest neighbors is a classification algorithm based on similarity to neighboring data points.\n",
        "from sklearn.ensemble import AdaBoostClassifier, RandomForestClassifier, GradientBoostingClassifier\n",
        "#Ensemble methods combine multiple models to improve predictive accuracy.\n",
        "from sklearn.preprocessing import LabelEncoder, StandardScaler\n",
        "#LabelEncoder helps with encoding categorical labels, while StandardScaler helps with standardizing numerical features, ensuring that your data is in a suitable format for various machine learning algorithms.\n",
        "from sklearn.tree import DecisionTreeClassifier\n",
        "#Decision trees are used for both classification and regression tasks.\n",
        "import xgboost as XGBClassifier\n",
        "#XGBoost is commonly used for classification and regression tasks\n",
        "from keras.models import Sequential\n",
        "from keras.layers import Dense\n",
        "#Sequential is used to create a linear stack of neural network layers, and Dense represents fully connected layers.\n",
        "\n",
        "import warnings as wr\n",
        "wr.filterwarnings('ignore')"
      ]
    },
    {
      "cell_type": "code",
      "source": [
        "df = pd.read_csv('/content/ecommerceDataset.csv')"
      ],
      "metadata": {
        "id": "iBKIm1j94-KB"
      },
      "id": "iBKIm1j94-KB",
      "execution_count": 2,
      "outputs": []
    },
    {
      "cell_type": "code",
      "source": [
        "df.columns = ['Class', 'Details']\n",
        "df.head()"
      ],
      "metadata": {
        "colab": {
          "base_uri": "https://localhost:8080/",
          "height": 206
        },
        "id": "-Z9Sj-4R6yZz",
        "outputId": "4c8b8b9e-693c-4e5c-8763-7b566d15b0dd"
      },
      "id": "-Z9Sj-4R6yZz",
      "execution_count": 3,
      "outputs": [
        {
          "output_type": "execute_result",
          "data": {
            "text/plain": [
              "       Class                                            Details\n",
              "0  Household  SAF 'Floral' Framed Painting (Wood, 30 inch x ...\n",
              "1  Household  SAF 'UV Textured Modern Art Print Framed' Pain...\n",
              "2  Household  SAF Flower Print Framed Painting (Synthetic, 1...\n",
              "3  Household  Incredible Gifts India Wooden Happy Birthday U...\n",
              "4  Household  Pitaara Box Romantic Venice Canvas Painting 6m..."
            ],
            "text/html": [
              "\n",
              "  <div id=\"df-ed581906-00e1-4aac-9bd2-f919e3cbfd2d\" class=\"colab-df-container\">\n",
              "    <div>\n",
              "<style scoped>\n",
              "    .dataframe tbody tr th:only-of-type {\n",
              "        vertical-align: middle;\n",
              "    }\n",
              "\n",
              "    .dataframe tbody tr th {\n",
              "        vertical-align: top;\n",
              "    }\n",
              "\n",
              "    .dataframe thead th {\n",
              "        text-align: right;\n",
              "    }\n",
              "</style>\n",
              "<table border=\"1\" class=\"dataframe\">\n",
              "  <thead>\n",
              "    <tr style=\"text-align: right;\">\n",
              "      <th></th>\n",
              "      <th>Class</th>\n",
              "      <th>Details</th>\n",
              "    </tr>\n",
              "  </thead>\n",
              "  <tbody>\n",
              "    <tr>\n",
              "      <th>0</th>\n",
              "      <td>Household</td>\n",
              "      <td>SAF 'Floral' Framed Painting (Wood, 30 inch x ...</td>\n",
              "    </tr>\n",
              "    <tr>\n",
              "      <th>1</th>\n",
              "      <td>Household</td>\n",
              "      <td>SAF 'UV Textured Modern Art Print Framed' Pain...</td>\n",
              "    </tr>\n",
              "    <tr>\n",
              "      <th>2</th>\n",
              "      <td>Household</td>\n",
              "      <td>SAF Flower Print Framed Painting (Synthetic, 1...</td>\n",
              "    </tr>\n",
              "    <tr>\n",
              "      <th>3</th>\n",
              "      <td>Household</td>\n",
              "      <td>Incredible Gifts India Wooden Happy Birthday U...</td>\n",
              "    </tr>\n",
              "    <tr>\n",
              "      <th>4</th>\n",
              "      <td>Household</td>\n",
              "      <td>Pitaara Box Romantic Venice Canvas Painting 6m...</td>\n",
              "    </tr>\n",
              "  </tbody>\n",
              "</table>\n",
              "</div>\n",
              "    <div class=\"colab-df-buttons\">\n",
              "\n",
              "  <div class=\"colab-df-container\">\n",
              "    <button class=\"colab-df-convert\" onclick=\"convertToInteractive('df-ed581906-00e1-4aac-9bd2-f919e3cbfd2d')\"\n",
              "            title=\"Convert this dataframe to an interactive table.\"\n",
              "            style=\"display:none;\">\n",
              "\n",
              "  <svg xmlns=\"http://www.w3.org/2000/svg\" height=\"24px\" viewBox=\"0 -960 960 960\">\n",
              "    <path d=\"M120-120v-720h720v720H120Zm60-500h600v-160H180v160Zm220 220h160v-160H400v160Zm0 220h160v-160H400v160ZM180-400h160v-160H180v160Zm440 0h160v-160H620v160ZM180-180h160v-160H180v160Zm440 0h160v-160H620v160Z\"/>\n",
              "  </svg>\n",
              "    </button>\n",
              "\n",
              "  <style>\n",
              "    .colab-df-container {\n",
              "      display:flex;\n",
              "      gap: 12px;\n",
              "    }\n",
              "\n",
              "    .colab-df-convert {\n",
              "      background-color: #E8F0FE;\n",
              "      border: none;\n",
              "      border-radius: 50%;\n",
              "      cursor: pointer;\n",
              "      display: none;\n",
              "      fill: #1967D2;\n",
              "      height: 32px;\n",
              "      padding: 0 0 0 0;\n",
              "      width: 32px;\n",
              "    }\n",
              "\n",
              "    .colab-df-convert:hover {\n",
              "      background-color: #E2EBFA;\n",
              "      box-shadow: 0px 1px 2px rgba(60, 64, 67, 0.3), 0px 1px 3px 1px rgba(60, 64, 67, 0.15);\n",
              "      fill: #174EA6;\n",
              "    }\n",
              "\n",
              "    .colab-df-buttons div {\n",
              "      margin-bottom: 4px;\n",
              "    }\n",
              "\n",
              "    [theme=dark] .colab-df-convert {\n",
              "      background-color: #3B4455;\n",
              "      fill: #D2E3FC;\n",
              "    }\n",
              "\n",
              "    [theme=dark] .colab-df-convert:hover {\n",
              "      background-color: #434B5C;\n",
              "      box-shadow: 0px 1px 3px 1px rgba(0, 0, 0, 0.15);\n",
              "      filter: drop-shadow(0px 1px 2px rgba(0, 0, 0, 0.3));\n",
              "      fill: #FFFFFF;\n",
              "    }\n",
              "  </style>\n",
              "\n",
              "    <script>\n",
              "      const buttonEl =\n",
              "        document.querySelector('#df-ed581906-00e1-4aac-9bd2-f919e3cbfd2d button.colab-df-convert');\n",
              "      buttonEl.style.display =\n",
              "        google.colab.kernel.accessAllowed ? 'block' : 'none';\n",
              "\n",
              "      async function convertToInteractive(key) {\n",
              "        const element = document.querySelector('#df-ed581906-00e1-4aac-9bd2-f919e3cbfd2d');\n",
              "        const dataTable =\n",
              "          await google.colab.kernel.invokeFunction('convertToInteractive',\n",
              "                                                    [key], {});\n",
              "        if (!dataTable) return;\n",
              "\n",
              "        const docLinkHtml = 'Like what you see? Visit the ' +\n",
              "          '<a target=\"_blank\" href=https://colab.research.google.com/notebooks/data_table.ipynb>data table notebook</a>'\n",
              "          + ' to learn more about interactive tables.';\n",
              "        element.innerHTML = '';\n",
              "        dataTable['output_type'] = 'display_data';\n",
              "        await google.colab.output.renderOutput(dataTable, element);\n",
              "        const docLink = document.createElement('div');\n",
              "        docLink.innerHTML = docLinkHtml;\n",
              "        element.appendChild(docLink);\n",
              "      }\n",
              "    </script>\n",
              "  </div>\n",
              "\n",
              "\n",
              "<div id=\"df-e8a41d86-4141-4943-9f88-db1b1e6c3ce3\">\n",
              "  <button class=\"colab-df-quickchart\" onclick=\"quickchart('df-e8a41d86-4141-4943-9f88-db1b1e6c3ce3')\"\n",
              "            title=\"Suggest charts.\"\n",
              "            style=\"display:none;\">\n",
              "\n",
              "<svg xmlns=\"http://www.w3.org/2000/svg\" height=\"24px\"viewBox=\"0 0 24 24\"\n",
              "     width=\"24px\">\n",
              "    <g>\n",
              "        <path d=\"M19 3H5c-1.1 0-2 .9-2 2v14c0 1.1.9 2 2 2h14c1.1 0 2-.9 2-2V5c0-1.1-.9-2-2-2zM9 17H7v-7h2v7zm4 0h-2V7h2v10zm4 0h-2v-4h2v4z\"/>\n",
              "    </g>\n",
              "</svg>\n",
              "  </button>\n",
              "\n",
              "<style>\n",
              "  .colab-df-quickchart {\n",
              "      --bg-color: #E8F0FE;\n",
              "      --fill-color: #1967D2;\n",
              "      --hover-bg-color: #E2EBFA;\n",
              "      --hover-fill-color: #174EA6;\n",
              "      --disabled-fill-color: #AAA;\n",
              "      --disabled-bg-color: #DDD;\n",
              "  }\n",
              "\n",
              "  [theme=dark] .colab-df-quickchart {\n",
              "      --bg-color: #3B4455;\n",
              "      --fill-color: #D2E3FC;\n",
              "      --hover-bg-color: #434B5C;\n",
              "      --hover-fill-color: #FFFFFF;\n",
              "      --disabled-bg-color: #3B4455;\n",
              "      --disabled-fill-color: #666;\n",
              "  }\n",
              "\n",
              "  .colab-df-quickchart {\n",
              "    background-color: var(--bg-color);\n",
              "    border: none;\n",
              "    border-radius: 50%;\n",
              "    cursor: pointer;\n",
              "    display: none;\n",
              "    fill: var(--fill-color);\n",
              "    height: 32px;\n",
              "    padding: 0;\n",
              "    width: 32px;\n",
              "  }\n",
              "\n",
              "  .colab-df-quickchart:hover {\n",
              "    background-color: var(--hover-bg-color);\n",
              "    box-shadow: 0 1px 2px rgba(60, 64, 67, 0.3), 0 1px 3px 1px rgba(60, 64, 67, 0.15);\n",
              "    fill: var(--button-hover-fill-color);\n",
              "  }\n",
              "\n",
              "  .colab-df-quickchart-complete:disabled,\n",
              "  .colab-df-quickchart-complete:disabled:hover {\n",
              "    background-color: var(--disabled-bg-color);\n",
              "    fill: var(--disabled-fill-color);\n",
              "    box-shadow: none;\n",
              "  }\n",
              "\n",
              "  .colab-df-spinner {\n",
              "    border: 2px solid var(--fill-color);\n",
              "    border-color: transparent;\n",
              "    border-bottom-color: var(--fill-color);\n",
              "    animation:\n",
              "      spin 1s steps(1) infinite;\n",
              "  }\n",
              "\n",
              "  @keyframes spin {\n",
              "    0% {\n",
              "      border-color: transparent;\n",
              "      border-bottom-color: var(--fill-color);\n",
              "      border-left-color: var(--fill-color);\n",
              "    }\n",
              "    20% {\n",
              "      border-color: transparent;\n",
              "      border-left-color: var(--fill-color);\n",
              "      border-top-color: var(--fill-color);\n",
              "    }\n",
              "    30% {\n",
              "      border-color: transparent;\n",
              "      border-left-color: var(--fill-color);\n",
              "      border-top-color: var(--fill-color);\n",
              "      border-right-color: var(--fill-color);\n",
              "    }\n",
              "    40% {\n",
              "      border-color: transparent;\n",
              "      border-right-color: var(--fill-color);\n",
              "      border-top-color: var(--fill-color);\n",
              "    }\n",
              "    60% {\n",
              "      border-color: transparent;\n",
              "      border-right-color: var(--fill-color);\n",
              "    }\n",
              "    80% {\n",
              "      border-color: transparent;\n",
              "      border-right-color: var(--fill-color);\n",
              "      border-bottom-color: var(--fill-color);\n",
              "    }\n",
              "    90% {\n",
              "      border-color: transparent;\n",
              "      border-bottom-color: var(--fill-color);\n",
              "    }\n",
              "  }\n",
              "</style>\n",
              "\n",
              "  <script>\n",
              "    async function quickchart(key) {\n",
              "      const quickchartButtonEl =\n",
              "        document.querySelector('#' + key + ' button');\n",
              "      quickchartButtonEl.disabled = true;  // To prevent multiple clicks.\n",
              "      quickchartButtonEl.classList.add('colab-df-spinner');\n",
              "      try {\n",
              "        const charts = await google.colab.kernel.invokeFunction(\n",
              "            'suggestCharts', [key], {});\n",
              "      } catch (error) {\n",
              "        console.error('Error during call to suggestCharts:', error);\n",
              "      }\n",
              "      quickchartButtonEl.classList.remove('colab-df-spinner');\n",
              "      quickchartButtonEl.classList.add('colab-df-quickchart-complete');\n",
              "    }\n",
              "    (() => {\n",
              "      let quickchartButtonEl =\n",
              "        document.querySelector('#df-e8a41d86-4141-4943-9f88-db1b1e6c3ce3 button');\n",
              "      quickchartButtonEl.style.display =\n",
              "        google.colab.kernel.accessAllowed ? 'block' : 'none';\n",
              "    })();\n",
              "  </script>\n",
              "</div>\n",
              "    </div>\n",
              "  </div>\n"
            ]
          },
          "metadata": {},
          "execution_count": 3
        }
      ]
    },
    {
      "cell_type": "code",
      "source": [
        "df.info()"
      ],
      "metadata": {
        "colab": {
          "base_uri": "https://localhost:8080/"
        },
        "id": "O7ZRWAMz81tk",
        "outputId": "0aed59b6-732e-413e-909e-5e9b56d0d621"
      },
      "id": "O7ZRWAMz81tk",
      "execution_count": 4,
      "outputs": [
        {
          "output_type": "stream",
          "name": "stdout",
          "text": [
            "<class 'pandas.core.frame.DataFrame'>\n",
            "RangeIndex: 50424 entries, 0 to 50423\n",
            "Data columns (total 2 columns):\n",
            " #   Column   Non-Null Count  Dtype \n",
            "---  ------   --------------  ----- \n",
            " 0   Class    50424 non-null  object\n",
            " 1   Details  50423 non-null  object\n",
            "dtypes: object(2)\n",
            "memory usage: 788.0+ KB\n"
          ]
        }
      ]
    },
    {
      "cell_type": "markdown",
      "source": [
        "**Preprocessing**"
      ],
      "metadata": {
        "id": "4lMWEkQOG81Y"
      },
      "id": "4lMWEkQOG81Y"
    },
    {
      "cell_type": "code",
      "source": [
        "import nltk\n",
        "nltk.download('punkt')"
      ],
      "metadata": {
        "colab": {
          "base_uri": "https://localhost:8080/"
        },
        "id": "ALiQBaGd_Rma",
        "outputId": "9fb5430f-4988-4a41-c668-a1da2fa63ce4"
      },
      "id": "ALiQBaGd_Rma",
      "execution_count": 5,
      "outputs": [
        {
          "output_type": "stream",
          "name": "stderr",
          "text": [
            "[nltk_data] Downloading package punkt to /root/nltk_data...\n",
            "[nltk_data]   Unzipping tokenizers/punkt.zip.\n"
          ]
        },
        {
          "output_type": "execute_result",
          "data": {
            "text/plain": [
              "True"
            ]
          },
          "metadata": {},
          "execution_count": 5
        }
      ]
    },
    {
      "cell_type": "code",
      "source": [
        "import nltk\n",
        "nltk.download('stopwords')"
      ],
      "metadata": {
        "colab": {
          "base_uri": "https://localhost:8080/"
        },
        "id": "KURzh5jz_cBg",
        "outputId": "b5973742-bf96-43cc-8b4d-569f361975d2"
      },
      "id": "KURzh5jz_cBg",
      "execution_count": 6,
      "outputs": [
        {
          "output_type": "stream",
          "name": "stderr",
          "text": [
            "[nltk_data] Downloading package stopwords to /root/nltk_data...\n",
            "[nltk_data]   Unzipping corpora/stopwords.zip.\n"
          ]
        },
        {
          "output_type": "execute_result",
          "data": {
            "text/plain": [
              "True"
            ]
          },
          "metadata": {},
          "execution_count": 6
        }
      ]
    },
    {
      "cell_type": "code",
      "source": [
        "# storeing stopwords in stopword to romove them from Details\n",
        "stopword = set(stopwords.words('english'))\n",
        "stopword"
      ],
      "metadata": {
        "colab": {
          "base_uri": "https://localhost:8080/"
        },
        "id": "6g_y0Nih9Tpj",
        "outputId": "99095638-855f-406e-9ce4-c8639c77b4c5"
      },
      "id": "6g_y0Nih9Tpj",
      "execution_count": 7,
      "outputs": [
        {
          "output_type": "execute_result",
          "data": {
            "text/plain": [
              "{'a',\n",
              " 'about',\n",
              " 'above',\n",
              " 'after',\n",
              " 'again',\n",
              " 'against',\n",
              " 'ain',\n",
              " 'all',\n",
              " 'am',\n",
              " 'an',\n",
              " 'and',\n",
              " 'any',\n",
              " 'are',\n",
              " 'aren',\n",
              " \"aren't\",\n",
              " 'as',\n",
              " 'at',\n",
              " 'be',\n",
              " 'because',\n",
              " 'been',\n",
              " 'before',\n",
              " 'being',\n",
              " 'below',\n",
              " 'between',\n",
              " 'both',\n",
              " 'but',\n",
              " 'by',\n",
              " 'can',\n",
              " 'couldn',\n",
              " \"couldn't\",\n",
              " 'd',\n",
              " 'did',\n",
              " 'didn',\n",
              " \"didn't\",\n",
              " 'do',\n",
              " 'does',\n",
              " 'doesn',\n",
              " \"doesn't\",\n",
              " 'doing',\n",
              " 'don',\n",
              " \"don't\",\n",
              " 'down',\n",
              " 'during',\n",
              " 'each',\n",
              " 'few',\n",
              " 'for',\n",
              " 'from',\n",
              " 'further',\n",
              " 'had',\n",
              " 'hadn',\n",
              " \"hadn't\",\n",
              " 'has',\n",
              " 'hasn',\n",
              " \"hasn't\",\n",
              " 'have',\n",
              " 'haven',\n",
              " \"haven't\",\n",
              " 'having',\n",
              " 'he',\n",
              " 'her',\n",
              " 'here',\n",
              " 'hers',\n",
              " 'herself',\n",
              " 'him',\n",
              " 'himself',\n",
              " 'his',\n",
              " 'how',\n",
              " 'i',\n",
              " 'if',\n",
              " 'in',\n",
              " 'into',\n",
              " 'is',\n",
              " 'isn',\n",
              " \"isn't\",\n",
              " 'it',\n",
              " \"it's\",\n",
              " 'its',\n",
              " 'itself',\n",
              " 'just',\n",
              " 'll',\n",
              " 'm',\n",
              " 'ma',\n",
              " 'me',\n",
              " 'mightn',\n",
              " \"mightn't\",\n",
              " 'more',\n",
              " 'most',\n",
              " 'mustn',\n",
              " \"mustn't\",\n",
              " 'my',\n",
              " 'myself',\n",
              " 'needn',\n",
              " \"needn't\",\n",
              " 'no',\n",
              " 'nor',\n",
              " 'not',\n",
              " 'now',\n",
              " 'o',\n",
              " 'of',\n",
              " 'off',\n",
              " 'on',\n",
              " 'once',\n",
              " 'only',\n",
              " 'or',\n",
              " 'other',\n",
              " 'our',\n",
              " 'ours',\n",
              " 'ourselves',\n",
              " 'out',\n",
              " 'over',\n",
              " 'own',\n",
              " 're',\n",
              " 's',\n",
              " 'same',\n",
              " 'shan',\n",
              " \"shan't\",\n",
              " 'she',\n",
              " \"she's\",\n",
              " 'should',\n",
              " \"should've\",\n",
              " 'shouldn',\n",
              " \"shouldn't\",\n",
              " 'so',\n",
              " 'some',\n",
              " 'such',\n",
              " 't',\n",
              " 'than',\n",
              " 'that',\n",
              " \"that'll\",\n",
              " 'the',\n",
              " 'their',\n",
              " 'theirs',\n",
              " 'them',\n",
              " 'themselves',\n",
              " 'then',\n",
              " 'there',\n",
              " 'these',\n",
              " 'they',\n",
              " 'this',\n",
              " 'those',\n",
              " 'through',\n",
              " 'to',\n",
              " 'too',\n",
              " 'under',\n",
              " 'until',\n",
              " 'up',\n",
              " 've',\n",
              " 'very',\n",
              " 'was',\n",
              " 'wasn',\n",
              " \"wasn't\",\n",
              " 'we',\n",
              " 'were',\n",
              " 'weren',\n",
              " \"weren't\",\n",
              " 'what',\n",
              " 'when',\n",
              " 'where',\n",
              " 'which',\n",
              " 'while',\n",
              " 'who',\n",
              " 'whom',\n",
              " 'why',\n",
              " 'will',\n",
              " 'with',\n",
              " 'won',\n",
              " \"won't\",\n",
              " 'wouldn',\n",
              " \"wouldn't\",\n",
              " 'y',\n",
              " 'you',\n",
              " \"you'd\",\n",
              " \"you'll\",\n",
              " \"you're\",\n",
              " \"you've\",\n",
              " 'your',\n",
              " 'yours',\n",
              " 'yourself',\n",
              " 'yourselves'}"
            ]
          },
          "metadata": {},
          "execution_count": 7
        }
      ]
    },
    {
      "cell_type": "code",
      "source": [
        "def preprocess_text(text):\n",
        "    if isinstance(text,str):\n",
        "        # Tokenize the text into word\n",
        "        words = nltk.word_tokenize(text.lower()) #make all the text into lower case\n",
        "\n",
        "        # Remove punctuations\n",
        "        words = [word for word in words if word not in string.punctuation]\n",
        "\n",
        "        # Remove stopword\n",
        "        filtered_words = [word for word in words if word not in stopword]\n",
        "\n",
        "        # Join the words into a text\n",
        "        sentence = ' '.join(filtered_words)\n",
        "\n",
        "        return sentence\n",
        "    else:\n",
        "        return ''"
      ],
      "metadata": {
        "id": "sSP2JVCP_lYC"
      },
      "id": "sSP2JVCP_lYC",
      "execution_count": 8,
      "outputs": []
    },
    {
      "cell_type": "code",
      "source": [
        "df['Details'] = df['Details'].apply(preprocess_text)"
      ],
      "metadata": {
        "id": "xoiwnQQS_7U6"
      },
      "id": "xoiwnQQS_7U6",
      "execution_count": 9,
      "outputs": []
    },
    {
      "cell_type": "code",
      "source": [
        "df.Details"
      ],
      "metadata": {
        "colab": {
          "base_uri": "https://localhost:8080/"
        },
        "id": "9HgTf17VBP1X",
        "outputId": "d2ac45f6-c76d-4fdb-ed6e-40884ddd9668"
      },
      "id": "9HgTf17VBP1X",
      "execution_count": 10,
      "outputs": [
        {
          "output_type": "execute_result",
          "data": {
            "text/plain": [
              "0        saf 'floral framed painting wood 30 inch x 10 ...\n",
              "1        saf 'uv textured modern art print framed paint...\n",
              "2        saf flower print framed painting synthetic 13....\n",
              "3        incredible gifts india wooden happy birthday u...\n",
              "4        pitaara box romantic venice canvas painting 6m...\n",
              "                               ...                        \n",
              "50419    strontium microsd class 10 8gb memory card bla...\n",
              "50420    crossbeats wave waterproof bluetooth wireless ...\n",
              "50421    karbonn titanium wind w4 white karbonn titaniu...\n",
              "50422    samsung guru fm plus sm-b110e/d black colour b...\n",
              "50423                       micromax canvas win w121 white\n",
              "Name: Details, Length: 50424, dtype: object"
            ]
          },
          "metadata": {},
          "execution_count": 10
        }
      ]
    },
    {
      "cell_type": "markdown",
      "source": [
        "**Lemmatization**"
      ],
      "metadata": {
        "id": "XqAiF58QG3K5"
      },
      "id": "XqAiF58QG3K5"
    },
    {
      "cell_type": "code",
      "source": [
        "lemmatizer = WordNetLemmatizer()\n",
        "\n",
        "def get_wordnet_pos(tag):\n",
        "    if tag.startswith('J'):\n",
        "        return wordnet.ADJ\n",
        "    elif tag.startswith('V'):\n",
        "        return wordnet.VERB\n",
        "    elif tag.startswith('N'):\n",
        "        return wordnet.NOUN\n",
        "    elif tag.startswith('R'):\n",
        "        return wordnet.ADV\n",
        "    else:\n",
        "        return wordnet.NOUN  # Default to NOUN if the POS tag is not recognized\n",
        "\n",
        "def lemmatize_text(text):\n",
        "    words = nltk.word_tokenize(text)\n",
        "    pos_tags = nltk.pos_tag(words)\n",
        "    lemmatized_words = [lemmatizer.lemmatize(word, get_wordnet_pos(pos_tag)) for word, pos_tag in pos_tags]\n",
        "    lemmatized_text = ' '.join(lemmatized_words)\n",
        "    return lemmatized_text"
      ],
      "metadata": {
        "id": "15nBQQaZBcBR"
      },
      "id": "15nBQQaZBcBR",
      "execution_count": 11,
      "outputs": []
    },
    {
      "cell_type": "code",
      "source": [
        "import nltk\n",
        "nltk.download('averaged_perceptron_tagger')"
      ],
      "metadata": {
        "colab": {
          "base_uri": "https://localhost:8080/"
        },
        "id": "0y0_XrXYDBCa",
        "outputId": "ed06866e-82da-4ba8-8a3c-f7889b621cb8"
      },
      "id": "0y0_XrXYDBCa",
      "execution_count": 12,
      "outputs": [
        {
          "output_type": "stream",
          "name": "stderr",
          "text": [
            "[nltk_data] Downloading package averaged_perceptron_tagger to\n",
            "[nltk_data]     /root/nltk_data...\n",
            "[nltk_data]   Unzipping taggers/averaged_perceptron_tagger.zip.\n"
          ]
        },
        {
          "output_type": "execute_result",
          "data": {
            "text/plain": [
              "True"
            ]
          },
          "metadata": {},
          "execution_count": 12
        }
      ]
    },
    {
      "cell_type": "code",
      "source": [
        "import nltk\n",
        "nltk.download('wordnet')"
      ],
      "metadata": {
        "colab": {
          "base_uri": "https://localhost:8080/"
        },
        "id": "G55rmqDoDVno",
        "outputId": "14e45d1a-8b78-4ad7-a5d5-22929f4ce6cb"
      },
      "id": "G55rmqDoDVno",
      "execution_count": 13,
      "outputs": [
        {
          "output_type": "stream",
          "name": "stderr",
          "text": [
            "[nltk_data] Downloading package wordnet to /root/nltk_data...\n"
          ]
        },
        {
          "output_type": "execute_result",
          "data": {
            "text/plain": [
              "True"
            ]
          },
          "metadata": {},
          "execution_count": 13
        }
      ]
    },
    {
      "cell_type": "code",
      "source": [
        "df['Details'] = df['Details'].apply(lemmatize_text)"
      ],
      "metadata": {
        "id": "8NKR_LsZBplI"
      },
      "id": "8NKR_LsZBplI",
      "execution_count": 14,
      "outputs": []
    },
    {
      "cell_type": "code",
      "source": [
        "df.Details"
      ],
      "metadata": {
        "colab": {
          "base_uri": "https://localhost:8080/"
        },
        "id": "xY5cDrRrCkrh",
        "outputId": "5d582bb6-8ab8-44df-a277-683b4fe48327"
      },
      "id": "xY5cDrRrCkrh",
      "execution_count": 15,
      "outputs": [
        {
          "output_type": "execute_result",
          "data": {
            "text/plain": [
              "0        saf 'floral frame paint wood 30 inch x 10 inch...\n",
              "1        saf 'uv textured modern art print frame paint ...\n",
              "2        saf flower print frame paint synthetic 13.5 in...\n",
              "3        incredible gift india wooden happy birthday un...\n",
              "4        pitaara box romantic venice canvas paint 6mm t...\n",
              "                               ...                        \n",
              "50419    strontium microsd class 10 8gb memory card bla...\n",
              "50420    crossbeats wave waterproof bluetooth wireless ...\n",
              "50421    karbonn titanium wind w4 white karbonn titaniu...\n",
              "50422    samsung guru fm plus sm-b110e/d black colour b...\n",
              "50423                       micromax canvas win w121 white\n",
              "Name: Details, Length: 50424, dtype: object"
            ]
          },
          "metadata": {},
          "execution_count": 15
        }
      ]
    },
    {
      "cell_type": "markdown",
      "source": [
        "**TF-IDF vectorizer**"
      ],
      "metadata": {
        "id": "eltOdXo_G1ep"
      },
      "id": "eltOdXo_G1ep"
    },
    {
      "cell_type": "code",
      "source": [
        "# Initialize TF-IDF vectorizer\n",
        "tfidf_vectorizer = TfidfVectorizer(max_features=1000)  # Adjust max_features as needed\n",
        "\n",
        "# Convert text to TF-IDF features\n",
        "X = tfidf_vectorizer.fit_transform(df['Details'])\n",
        "y = df['Class']"
      ],
      "metadata": {
        "id": "NUoH2mE7GLfr"
      },
      "id": "NUoH2mE7GLfr",
      "execution_count": 16,
      "outputs": []
    },
    {
      "cell_type": "markdown",
      "source": [
        "**Fit Model and Classification Result**"
      ],
      "metadata": {
        "id": "sS6ov8XAmjL7"
      },
      "id": "sS6ov8XAmjL7"
    },
    {
      "cell_type": "code",
      "source": [
        "#Encode label\n",
        "label_encoder = LabelEncoder()\n",
        "y = label_encoder.fit_transform(df['Class'])"
      ],
      "metadata": {
        "id": "TRW9C-FHVpsK"
      },
      "id": "TRW9C-FHVpsK",
      "execution_count": 17,
      "outputs": []
    },
    {
      "cell_type": "code",
      "source": [
        "X_train, X_test, y_train, y_test = train_test_split(X, y, test_size=0.2, random_state=42)"
      ],
      "metadata": {
        "id": "t44lhGWyKRWi"
      },
      "id": "t44lhGWyKRWi",
      "execution_count": 18,
      "outputs": []
    },
    {
      "cell_type": "code",
      "source": [
        "# Initialize StandardScaler with with_mean=False for sparse matrices\n",
        "scaler = StandardScaler(with_mean=False)\n",
        "\n",
        "# Scale the TF-IDF matrix\n",
        "X_train_scaled = scaler.fit_transform(X_train)\n",
        "X_test_scaled = scaler.transform(X_test)"
      ],
      "metadata": {
        "id": "jrWv9xHBKXEj"
      },
      "id": "jrWv9xHBKXEj",
      "execution_count": 19,
      "outputs": []
    },
    {
      "cell_type": "code",
      "source": [
        "# Initialize classifiers\n",
        "classifiers = {\n",
        "    \"multinomial\" : MultinomialNB(),\n",
        "    \"Bernoulli\" : BernoulliNB(),\n",
        "    \"Logistic Regression\": LogisticRegression(max_iter=1000),\n",
        "    \"SVM\": SVC(),\n",
        "    \"K Neighbors\": KNeighborsClassifier(),\n",
        "    \"AdaBoost\": AdaBoostClassifier(),\n",
        "    \"Random Forest\": RandomForestClassifier(),\n",
        "    \"Decision Tree\": DecisionTreeClassifier(),\n",
        "}\n",
        "\n",
        "# Accuracy Results\n",
        "results = {}\n",
        "for name, clf in classifiers.items():\n",
        "    clf.fit(X_train_scaled, y_train)\n",
        "    y_pred = clf.predict(X_test_scaled)\n",
        "\n",
        "    accuracy = accuracy_score(y_test, y_pred)\n",
        "    results[name] = accuracy\n",
        "\n",
        "# Display results\n",
        "for name, accuracy in results.items():\n",
        "    print(f\"{name}: Accuracy = {accuracy:.4f}\")\n",
        "    print(f\"{name} Classification Report:\")\n",
        "    predictions = classifiers[name].predict(X_test)\n",
        "    print(classification_report(y_test, predictions, target_names=label_encoder.classes_, zero_division=1))\n",
        "    print(\"=\" * 50)"
      ],
      "metadata": {
        "colab": {
          "base_uri": "https://localhost:8080/"
        },
        "id": "5WICxBXBKrBJ",
        "outputId": "f1d6b93d-0909-4f98-c39f-2ac12d209a8e"
      },
      "id": "5WICxBXBKrBJ",
      "execution_count": 20,
      "outputs": [
        {
          "output_type": "stream",
          "name": "stdout",
          "text": [
            "multinomial: Accuracy = 0.9116\n",
            "multinomial Classification Report:\n",
            "                        precision    recall  f1-score   support\n",
            "\n",
            "                 Books       0.96      0.85      0.90      2379\n",
            "Clothing & Accessories       0.94      0.95      0.94      1750\n",
            "           Electronics       0.93      0.89      0.91      2082\n",
            "             Household       0.88      0.95      0.91      3874\n",
            "\n",
            "              accuracy                           0.91     10085\n",
            "             macro avg       0.93      0.91      0.92     10085\n",
            "          weighted avg       0.92      0.91      0.91     10085\n",
            "\n",
            "==================================================\n",
            "Bernoulli: Accuracy = 0.8630\n",
            "Bernoulli Classification Report:\n",
            "                        precision    recall  f1-score   support\n",
            "\n",
            "                 Books       0.92      0.85      0.88      2379\n",
            "Clothing & Accessories       0.70      0.95      0.81      1750\n",
            "           Electronics       0.92      0.81      0.86      2082\n",
            "             Household       0.91      0.86      0.88      3874\n",
            "\n",
            "              accuracy                           0.86     10085\n",
            "             macro avg       0.86      0.87      0.86     10085\n",
            "          weighted avg       0.88      0.86      0.87     10085\n",
            "\n",
            "==================================================\n",
            "Logistic Regression: Accuracy = 0.9409\n",
            "Logistic Regression Classification Report:\n",
            "                        precision    recall  f1-score   support\n",
            "\n",
            "                 Books       0.24      1.00      0.38      2379\n",
            "Clothing & Accessories       1.00      0.00      0.00      1750\n",
            "           Electronics       1.00      0.00      0.00      2082\n",
            "             Household       1.00      0.00      0.00      3874\n",
            "\n",
            "              accuracy                           0.24     10085\n",
            "             macro avg       0.81      0.25      0.10     10085\n",
            "          weighted avg       0.82      0.24      0.09     10085\n",
            "\n",
            "==================================================\n",
            "SVM: Accuracy = 0.9657\n",
            "SVM Classification Report:\n",
            "                        precision    recall  f1-score   support\n",
            "\n",
            "                 Books       0.24      1.00      0.38      2379\n",
            "Clothing & Accessories       1.00      0.00      0.00      1750\n",
            "           Electronics       1.00      0.00      0.00      2082\n",
            "             Household       1.00      0.00      0.00      3874\n",
            "\n",
            "              accuracy                           0.24     10085\n",
            "             macro avg       0.81      0.25      0.10     10085\n",
            "          weighted avg       0.82      0.24      0.09     10085\n",
            "\n",
            "==================================================\n",
            "K Neighbors: Accuracy = 0.7972\n",
            "K Neighbors Classification Report:\n",
            "                        precision    recall  f1-score   support\n",
            "\n",
            "                 Books       0.24      1.00      0.38      2379\n",
            "Clothing & Accessories       1.00      0.00      0.00      1750\n",
            "           Electronics       1.00      0.00      0.00      2082\n",
            "             Household       1.00      0.00      0.00      3874\n",
            "\n",
            "              accuracy                           0.24     10085\n",
            "             macro avg       0.81      0.25      0.10     10085\n",
            "          weighted avg       0.82      0.24      0.09     10085\n",
            "\n",
            "==================================================\n",
            "AdaBoost: Accuracy = 0.8112\n",
            "AdaBoost Classification Report:\n",
            "                        precision    recall  f1-score   support\n",
            "\n",
            "                 Books       0.97      0.40      0.57      2379\n",
            "Clothing & Accessories       0.92      0.04      0.08      1750\n",
            "           Electronics       0.93      0.22      0.36      2082\n",
            "             Household       0.45      0.99      0.62      3874\n",
            "\n",
            "              accuracy                           0.53     10085\n",
            "             macro avg       0.82      0.41      0.40     10085\n",
            "          weighted avg       0.75      0.53      0.46     10085\n",
            "\n",
            "==================================================\n",
            "Random Forest: Accuracy = 0.9675\n",
            "Random Forest Classification Report:\n",
            "                        precision    recall  f1-score   support\n",
            "\n",
            "                 Books       0.25      0.99      0.40      2379\n",
            "Clothing & Accessories       0.91      0.03      0.06      1750\n",
            "           Electronics       0.90      0.13      0.22      2082\n",
            "             Household       0.77      0.09      0.16      3874\n",
            "\n",
            "              accuracy                           0.30     10085\n",
            "             macro avg       0.71      0.31      0.21     10085\n",
            "          weighted avg       0.70      0.30      0.21     10085\n",
            "\n",
            "==================================================\n",
            "Decision Tree: Accuracy = 0.9469\n",
            "Decision Tree Classification Report:\n",
            "                        precision    recall  f1-score   support\n",
            "\n",
            "                 Books       0.29      0.96      0.44      2379\n",
            "Clothing & Accessories       0.91      0.04      0.08      1750\n",
            "           Electronics       0.87      0.25      0.38      2082\n",
            "             Household       0.65      0.25      0.36      3874\n",
            "\n",
            "              accuracy                           0.38     10085\n",
            "             macro avg       0.68      0.38      0.32     10085\n",
            "          weighted avg       0.65      0.38      0.34     10085\n",
            "\n",
            "==================================================\n"
          ]
        }
      ]
    },
    {
      "cell_type": "markdown",
      "source": [
        "**ANN Accuracy Test**"
      ],
      "metadata": {
        "id": "O7ulX2WZ-xJc"
      },
      "id": "O7ulX2WZ-xJc"
    },
    {
      "cell_type": "code",
      "source": [
        "import tensorflow as tf\n",
        "from keras.models import Sequential\n",
        "from keras.layers import Dense\n",
        "import numpy as np\n",
        "\n",
        "# Build the ANN model\n",
        "model = Sequential([\n",
        "    Dense(64, activation='relu', input_dim=X_train.shape[1]),\n",
        "    Dense(32, activation='relu'),\n",
        "    Dense(len(label_encoder.classes_), activation='softmax')\n",
        "])\n",
        "\n",
        "X_train = X_train.toarray()\n",
        "\n",
        "# Compile the model\n",
        "model.compile(optimizer='adam', loss='sparse_categorical_crossentropy', metrics=['accuracy'])\n",
        "\n",
        "# Train the model\n",
        "model.fit(X_train, y_train, epochs=10, batch_size=32, verbose=1)\n",
        "\n",
        "# Predict using the trained model\n",
        "y_pred_prob = model.predict(X_test)\n",
        "y_pred = np.argmax(y_pred_prob, axis=1)\n",
        "\n",
        "# Calculate accuracy\n",
        "accuracy = accuracy_score(y_test, y_pred)\n",
        "print(f\"ANN Accuracy: {accuracy:.4f}\")\n",
        "\n",
        "# Generate classification report\n",
        "print(\"ANN Classification Report:\")\n",
        "print(classification_report(y_test, y_pred, target_names=label_encoder.classes_, zero_division=1))\n"
      ],
      "metadata": {
        "colab": {
          "base_uri": "https://localhost:8080/"
        },
        "id": "XPcB28Df7fdi",
        "outputId": "20390be3-973e-4e75-9e19-c4eb357fabc3"
      },
      "id": "XPcB28Df7fdi",
      "execution_count": 33,
      "outputs": [
        {
          "output_type": "stream",
          "name": "stdout",
          "text": [
            "Epoch 1/10\n",
            "1261/1261 [==============================] - 11s 7ms/step - loss: 0.2852 - accuracy: 0.9177\n",
            "Epoch 2/10\n",
            "1261/1261 [==============================] - 3s 3ms/step - loss: 0.1622 - accuracy: 0.9546\n",
            "Epoch 3/10\n",
            "1261/1261 [==============================] - 4s 3ms/step - loss: 0.1346 - accuracy: 0.9618\n",
            "Epoch 4/10\n",
            "1261/1261 [==============================] - 4s 3ms/step - loss: 0.1095 - accuracy: 0.9692\n",
            "Epoch 5/10\n",
            "1261/1261 [==============================] - 3s 2ms/step - loss: 0.0856 - accuracy: 0.9768\n",
            "Epoch 6/10\n",
            "1261/1261 [==============================] - 3s 2ms/step - loss: 0.0650 - accuracy: 0.9822\n",
            "Epoch 7/10\n",
            "1261/1261 [==============================] - 4s 3ms/step - loss: 0.0477 - accuracy: 0.9874\n",
            "Epoch 8/10\n",
            "1261/1261 [==============================] - 3s 3ms/step - loss: 0.0352 - accuracy: 0.9906\n",
            "Epoch 9/10\n",
            "1261/1261 [==============================] - 3s 3ms/step - loss: 0.0271 - accuracy: 0.9928\n",
            "Epoch 10/10\n",
            "1261/1261 [==============================] - 3s 2ms/step - loss: 0.0225 - accuracy: 0.9940\n",
            "316/316 [==============================] - 1s 2ms/step\n",
            "ANN Accuracy: 0.9681\n",
            "ANN Classification Report:\n",
            "                        precision    recall  f1-score   support\n",
            "\n",
            "                 Books       0.97      0.96      0.97      2379\n",
            "Clothing & Accessories       0.98      0.97      0.97      1750\n",
            "           Electronics       0.95      0.97      0.96      2082\n",
            "             Household       0.97      0.97      0.97      3874\n",
            "\n",
            "              accuracy                           0.97     10085\n",
            "             macro avg       0.97      0.97      0.97     10085\n",
            "          weighted avg       0.97      0.97      0.97     10085\n",
            "\n"
          ]
        }
      ]
    },
    {
      "cell_type": "markdown",
      "source": [
        "*  Precision measures how many of the predicted positive instances were actually positive.\n",
        "*  Recall measures how many of the actual positive instances were correctly predicted\n",
        "*  The F1-score is the harmonic mean of precision and recall. It provides a balance between precision and recall. Higher F1-scores indicate better model performance.\n",
        "*  The support represents the number of instances in each class in your dataset.\n",
        "*  Accuracy is the ratio of correctly predicted instances to the total number of instances.\n",
        "*  Macro-averaging calculates the metric independently for each class and then takes the average. It gives equal weight to each class.\n",
        "*  Weighted averaging also calculates the metric for each class, but it gives more weight to classes with larger support."
      ],
      "metadata": {
        "id": "ciOMczVLX7zk"
      },
      "id": "ciOMczVLX7zk"
    },
    {
      "cell_type": "markdown",
      "source": [
        "**Confusion Matrix**"
      ],
      "metadata": {
        "id": "LeYVllA1drM2"
      },
      "id": "LeYVllA1drM2"
    },
    {
      "cell_type": "code",
      "source": [
        "label_name=[\"Books\",\"Clothing & Accessories\",\"Electronics\",\"Household\"]\n",
        "cf=confusion_matrix(y_test,y_pred)\n",
        "plt.figure(figsize=(6,5))\n",
        "sns.heatmap(cf,annot=True,fmt=\"d\",cmap=\"inferno\",xticklabels=label_name,yticklabels=label_name,lw=4,linecolor=\"black\")\n",
        "plt.title(\"Confusion Matrix\")\n",
        "plt.xlabel(\"Predicted\")\n",
        "plt.ylabel(\"Actual\")\n",
        "plt.show()"
      ],
      "metadata": {
        "colab": {
          "base_uri": "https://localhost:8080/",
          "height": 631
        },
        "id": "RnfC9vekdq7s",
        "outputId": "602b9769-e1b2-4669-8c8a-bf29233514a9"
      },
      "id": "RnfC9vekdq7s",
      "execution_count": 34,
      "outputs": [
        {
          "output_type": "display_data",
          "data": {
            "text/plain": [
              "<Figure size 600x500 with 2 Axes>"
            ],
            "image/png": "[encoded data removed]"
          },
          "metadata": {}
        }
      ]
    },
    {
      "cell_type": "markdown",
      "source": [
        "**Comparison Between models**"
      ],
      "metadata": {
        "id": "lUndyTJxc5cg"
      },
      "id": "lUndyTJxc5cg"
    },
    {
      "cell_type": "code",
      "source": [
        "models = ['multinomial', \"Bernoulli\",'Logistic Regression', 'SVM', 'k Neighbors', 'AdaBoost', 'Random Forest', 'Decision Tree', 'ANN']\n",
        "accuracy_scores = [0.9116, 0.8630, 0.9409, 0.9657, 0.7972, 0.8112, 0.9688, 0.9457, 0.9681]\n",
        "\n",
        "plt.figure(figsize=(20, 7))\n",
        "plt.bar(models, accuracy_scores, color=['grey', 'blue', 'red', 'yellow', 'green', 'maroon', 'teal', 'pink', 'orange'])\n",
        "plt.xlabel('Models')\n",
        "plt.ylabel('Accuracy')\n",
        "plt.title('Accuracy Scores for Different Models')\n",
        "plt.ylim(0, 1)\n",
        "plt.xticks(rotation=45)\n",
        "plt.tight_layout()\n",
        "plt.show()"
      ],
      "metadata": {
        "colab": {
          "base_uri": "https://localhost:8080/",
          "height": 344
        },
        "id": "wDH1pgaYX6tZ",
        "outputId": "592c8ea3-9541-402d-bd80-1f9b84c96ffe"
      },
      "id": "wDH1pgaYX6tZ",
      "execution_count": 36,
      "outputs": [
        {
          "output_type": "display_data",
          "data": {
            "text/plain": [
              "<Figure size 2000x700 with 1 Axes>"
            ],
            "image/png": "[encoded data removed]"
          },
          "metadata": {}
        }
      ]
    },
    {
      "cell_type": "markdown",
      "source": [
        "**Data Visualisation**"
      ],
      "metadata": {
        "id": "HmzyX1FcfzJj"
      },
      "id": "HmzyX1FcfzJj"
    },
    {
      "cell_type": "code",
      "source": [
        "label_encoder = LabelEncoder()\n",
        "df['T_Class'] = label_encoder.fit_transform(df['Class'])\n",
        "\n",
        "df['Category'] = label_encoder.inverse_transform(df['T_Class'])\n",
        "\n",
        "df[['Class', 'T_Class', 'Category']].value_counts()"
      ],
      "metadata": {
        "colab": {
          "base_uri": "https://localhost:8080/"
        },
        "id": "n4MgBw7Jhoqi",
        "outputId": "63d541bd-9560-4629-aadb-1738e70fc680"
      },
      "id": "n4MgBw7Jhoqi",
      "execution_count": 37,
      "outputs": [
        {
          "output_type": "execute_result",
          "data": {
            "text/plain": [
              "Class                   T_Class  Category              \n",
              "Household               3        Household                 19312\n",
              "Books                   0        Books                     11820\n",
              "Electronics             2        Electronics               10621\n",
              "Clothing & Accessories  1        Clothing & Accessories     8671\n",
              "dtype: int64"
            ]
          },
          "metadata": {},
          "execution_count": 37
        }
      ]
    },
    {
      "cell_type": "code",
      "source": [
        "df.drop([\"Class\",\"Category\"],axis=1,inplace=True)"
      ],
      "metadata": {
        "id": "mU9UvebtjM6J"
      },
      "id": "mU9UvebtjM6J",
      "execution_count": 38,
      "outputs": []
    },
    {
      "cell_type": "code",
      "source": [
        "books_len=df[df[\"T_Class\"]==0][\"Details\"].str.len()\n",
        "clothing_len=df[df[\"T_Class\"]==1][\"Details\"].str.len()\n",
        "Electronic_len=df[df[\"T_Class\"]==2][\"Details\"].str.len()\n",
        "Household_len=df[df[\"T_Class\"]==3][\"Details\"].str.len()\n",
        "\n",
        "\n",
        "fig, axes = plt.subplots(2, 2, figsize=(12, 8))\n",
        "axes = axes.flatten()\n",
        "for label, ax in zip(range(4), axes):\n",
        "    text_lengths = df[df[\"T_Class\"] == label][\"Details\"].str.len()\n",
        "    sns.histplot(text_lengths, bins=20, color=sns.color_palette()[label], ax=ax, kde=True)\n",
        "\n",
        "    ax.set_title(f'Distribution of Text Lengths for Label {label}')\n",
        "    ax.set_xlabel('Text Length')\n",
        "    ax.set_ylabel('Frequency')\n",
        "    ax.grid(True)\n",
        "\n",
        "plt.tight_layout()\n",
        "plt.show()"
      ],
      "metadata": {
        "colab": {
          "base_uri": "https://localhost:8080/",
          "height": 644
        },
        "id": "0mrqEXSsfyr6",
        "outputId": "c68a6774-9acd-4071-8d27-43c7ff72c01b"
      },
      "id": "0mrqEXSsfyr6",
      "execution_count": 39,
      "outputs": [
        {
          "output_type": "display_data",
          "data": {
            "text/plain": [
              "<Figure size 1200x800 with 4 Axes>"
            ],
            "image/png": "[encoded data removed]"
          },
          "metadata": {}
        }
      ]
    }
  ],
  "metadata": {
    "kernelspec": {
      "display_name": "Python 3 (ipykernel)",
      "language": "python",
      "name": "python3"
    },
    "language_info": {
      "codemirror_mode": {
        "name": "ipython",
        "version": 3
      },
      "file_extension": ".py",
      "mimetype": "text/x-python",
      "name": "python",
      "nbconvert_exporter": "python",
      "pygments_lexer": "ipython3",
      "version": "3.10.9"
    },
    "colab": {
      "provenance": []
    }
  },
  "nbformat": 4,
  "nbformat_minor": 5
}